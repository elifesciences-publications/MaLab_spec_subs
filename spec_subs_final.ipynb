{
 "cells": [
  {
   "cell_type": "code",
   "execution_count": 5,
   "metadata": {
    "collapsed": true
   },
   "outputs": [],
   "source": [
    "# import numpy as np\n",
    "# import pandas as pd \n",
    "# from pandas.errors import EmptyDataError\n",
    "# from Bio import SeqIO\n",
    "# from Bio.Seq import Seq\n",
    "# from Bio.SeqRecord import SeqRecord\n",
    "# import re\n",
    "# from Bio.Alphabet import IUPAC\n",
    "# import subprocess\n",
    "# from collections import OrderedDict\n",
    "# import os, os.path\n",
    "# import sys\n",
    "# import glob\n",
    "# import shutil\n",
    "# from Bio.SubsMat.MatrixInfo import blosum62\n",
    "# import matplotlib.pyplot as plt\n",
    "# from bs4 import BeautifulSoup \n",
    "# \n",
    "# pd.options.mode.chained_assignment = None\n",
    "# #Chrome Driver imports\n",
    "# from selenium import webdriver \n",
    "# from selenium.webdriver.common.by import By\n",
    "# from selenium.common.exceptions import TimeoutException, WebDriverException\n",
    "# from selenium.webdriver.support.ui import WebDriverWait # available since 2.4.0\n",
    "# from selenium.webdriver.support import expected_conditions as EC # available since 2.26.0\n"
   ]
  },
  {
   "cell_type": "code",
   "execution_count": 7,
   "metadata": {},
   "outputs": [
    {
     "ename": "ModuleNotFoundError",
     "evalue": "No module named 'SSconfig'",
     "traceback": [
      "\u001b[0;31m---------------------------------------------------------------------------\u001b[0m",
      "\u001b[0;31mModuleNotFoundError\u001b[0m                       Traceback (most recent call last)",
      "\u001b[0;32m<ipython-input-7-72285cc11fb9>\u001b[0m in \u001b[0;36m<module>\u001b[0;34m()\u001b[0m\n\u001b[1;32m      1\u001b[0m \u001b[0;31m#SS module imports + initialization of variables from config file (see config/config.txt)\u001b[0m\u001b[0;34m\u001b[0m\u001b[0;34m\u001b[0m\u001b[0;34m\u001b[0m\u001b[0m\n\u001b[0;32m----> 2\u001b[0;31m \u001b[0;32mimport\u001b[0m \u001b[0mSSconfig\u001b[0m\u001b[0;34m\u001b[0m\u001b[0;34m\u001b[0m\u001b[0m\n\u001b[0m\u001b[1;32m      3\u001b[0m \u001b[0;32mimport\u001b[0m \u001b[0mSSdirectory\u001b[0m\u001b[0;34m\u001b[0m\u001b[0;34m\u001b[0m\u001b[0m\n\u001b[1;32m      4\u001b[0m \u001b[0;32mimport\u001b[0m \u001b[0mSSerrors\u001b[0m\u001b[0;34m\u001b[0m\u001b[0;34m\u001b[0m\u001b[0m\n\u001b[1;32m      5\u001b[0m \u001b[0mwrite_errors\u001b[0m \u001b[0;34m=\u001b[0m \u001b[0mSSerrors\u001b[0m\u001b[0;34m.\u001b[0m\u001b[0mwrite_errors\u001b[0m\u001b[0;34m\u001b[0m\u001b[0;34m\u001b[0m\u001b[0m\n",
      "\u001b[0;31mModuleNotFoundError\u001b[0m: No module named 'SSconfig'"
     ],
     "output_type": "error"
    }
   ],
   "source": [
    "#SS module imports + initialization of variables from config file (see config/config.txt)\n",
    "import SSconfig\n",
    "import SSdirectory\n",
    "import SSerrors\n",
    "write_errors = SSerrors.write_errors\n",
    "\n",
    "config, spec_list, gene_id_df, tax_table = SSconfig.config_initialization()\n",
    "gene_symbols = gene_id_df[\"gene_symbol\"]\n",
    "run_name = config[\"RunName\"]\n",
    "test_species = config[\"ODBTestSpecies\"]\n",
    "species_path = config[\"SpeciesFilePath\"]\n",
    "\n",
    "SSdirectory.create_run_directory(run_name)"
   ]
  },
  {
   "cell_type": "code",
   "execution_count": 4,
   "metadata": {},
   "outputs": [
    {
     "name": "stdout",
     "output_type": "stream",
     "text": [
      "CDC42\tOrthoDBQueryError\t1\tOrthoDB search yielded too many clusters\nUBE2D3-AS1\tOrthoDBQueryError\t0\tNo OrthoDB results for query\nSLC6A10P\tOrthoDBQueryError\t0\tNo OrthoDB results for query\nCBR3-AS1\tOrthoDBQueryError\t0\tNo OrthoDB results for query\nInput queries downloaded.\n"
     ]
    }
   ],
   "source": [
    "#OrthoDB Queries\n",
    "import ODBquery\n",
    "valid_queries, failed_queries = ODBquery.download_ODB_input(gene_symbols,tax_table,config)"
   ]
  },
  {
   "cell_type": "code",
   "execution_count": 2,
   "metadata": {},
   "outputs": [
    {
     "ename": "ModuleNotFoundError",
     "evalue": "No module named 'NCBIquery'",
     "traceback": [
      "\u001b[0;31m---------------------------------------------------------------------------\u001b[0m",
      "\u001b[0;31mModuleNotFoundError\u001b[0m                       Traceback (most recent call last)",
      "\u001b[0;32m<ipython-input-2-2284eb4a70af>\u001b[0m in \u001b[0;36m<module>\u001b[0;34m()\u001b[0m\n\u001b[1;32m      1\u001b[0m \u001b[0;32mimport\u001b[0m \u001b[0mimportlib\u001b[0m\u001b[0;34m\u001b[0m\u001b[0;34m\u001b[0m\u001b[0m\n\u001b[0;32m----> 2\u001b[0;31m \u001b[0;32mimport\u001b[0m \u001b[0mNCBIquery\u001b[0m\u001b[0;34m\u001b[0m\u001b[0;34m\u001b[0m\u001b[0m\n\u001b[0m\u001b[1;32m      3\u001b[0m \u001b[0mags_mapped_df\u001b[0m \u001b[0;34m=\u001b[0m \u001b[0mNCBIquery\u001b[0m\u001b[0;34m.\u001b[0m\u001b[0mdownload_AGS_data\u001b[0m\u001b[0;34m(\u001b[0m\u001b[0mgene_id_df\u001b[0m\u001b[0;34m,\u001b[0m\u001b[0mconfig\u001b[0m\u001b[0;34m)\u001b[0m\u001b[0;34m\u001b[0m\u001b[0;34m\u001b[0m\u001b[0m\n",
      "\u001b[0;31mModuleNotFoundError\u001b[0m: No module named 'NCBIquery'"
     ],
     "output_type": "error"
    }
   ],
   "source": [
    "import importlib\n",
    "import NCBIquery\n",
    "ags_mapped_df = NCBIquery.download_AGS_data(gene_id_df,config)"
   ]
  },
  {
   "cell_type": "code",
   "execution_count": 7,
   "metadata": {},
   "outputs": [
    {
     "name": "stdout",
     "output_type": "stream",
     "text": [
      "CACB1\tGeneCardsError\t0\tCould not automatically fetch alias data from GeneCards - consider searching manually\n"
     ]
    }
   ],
   "source": [
    "import aliasQuery\n",
    "aliasQuery.download_alias_data(gene_symbols,config)"
   ]
  },
  {
   "cell_type": "code",
   "execution_count": 19,
   "metadata": {},
   "outputs": [
    {
     "name": "stdout",
     "output_type": "stream",
     "text": [
      "False\nTrue\n"
     ]
    }
   ],
   "source": [
    ""
   ]
  },
  {
   "cell_type": "code",
   "execution_count": 2,
   "metadata": {},
   "outputs": [],
   "source": []
  },
  {
   "cell_type": "code",
   "execution_count": null,
   "metadata": {},
   "outputs": [],
   "source": []
  }
 ],
 "metadata": {
  "kernelspec": {
   "display_name": "Python 2",
   "language": "python",
   "name": "python2"
  },
  "language_info": {
   "codemirror_mode": {
    "name": "ipython",
    "version": 2
   },
   "file_extension": ".py",
   "mimetype": "text/x-python",
   "name": "python",
   "nbconvert_exporter": "python",
   "pygments_lexer": "ipython2",
   "version": "2.7.6"
  }
 },
 "nbformat": 4,
 "nbformat_minor": 0
}
