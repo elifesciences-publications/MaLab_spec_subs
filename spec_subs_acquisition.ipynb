{
 "cells": [
  {
   "cell_type": "code",
   "execution_count": 8,
   "metadata": {
    "collapsed": true
   },
   "outputs": [],
   "source": [
    "# import numpy as np\n",
    "# import pandas as pd \n",
    "# from pandas.errors import EmptyDataError\n",
    "# from Bio import SeqIO\n",
    "# from Bio.Seq import Seq\n",
    "# from Bio.SeqRecord import SeqRecord\n",
    "# import re\n",
    "# from Bio.Alphabet import IUPAC\n",
    "# import subprocess\n",
    "# from collections import OrderedDict\n",
    "# import os, os.path\n",
    "# import sys\n",
    "# import glob\n",
    "# import shutil\n",
    "# from Bio.SubsMat.MatrixInfo import blosum62\n",
    "# import matplotlib.pyplot as plt\n",
    "# from bs4 import BeautifulSoup \n",
    "# \n",
    "# pd.options.mode.chained_assignment = None\n",
    "# #Chrome Driver imports\n",
    "# from selenium import webdriver \n",
    "# from selenium.webdriver.common.by import By\n",
    "# from selenium.common.exceptions import TimeoutException, WebDriverException\n",
    "# from selenium.webdriver.support.ui import WebDriverWait # available since 2.4.0\n",
    "# from selenium.webdriver.support import expected_conditions as EC # available since 2.26.0\n"
   ]
  },
  {
   "cell_type": "code",
   "execution_count": 9,
   "metadata": {},
   "outputs": [],
   "source": [
    "#SS module imports + initialization of variables from config file (see config/config.txt)\n",
    "import SSconfig\n",
    "import SSdirectory\n",
    "import SSerrors\n",
    "write_errors = SSerrors.write_errors\n",
    "\n",
    "config, spec_list, gene_id_df, tax_table = SSconfig.config_initialization()\n",
    "gene_symbols = gene_id_df[\"gene_symbol\"]\n",
    "run_name = config[\"RunName\"]\n",
    "test_species = config[\"ODBTestSpecies\"]\n",
    "species_path = config[\"SpeciesFilePath\"]\n",
    "\n",
    "SSdirectory.create_run_directory(run_name)"
   ]
  },
  {
   "cell_type": "code",
   "execution_count": 3,
   "metadata": {},
   "outputs": [
    {
     "name": "stdout",
     "output_type": "stream",
     "text": [
      "CDC42\tOrthoDBQueryError\t1\tOrthoDB search yielded too many clusters\n\n"
     ]
    },
    {
     "name": "stdout",
     "output_type": "stream",
     "text": [
      "UBE2D3-AS1\tOrthoDBQueryError\t0\tNo OrthoDB results for query\nSLC6A10P\tOrthoDBQueryError\t0\tNo OrthoDB results for query\nCBR3-AS1\tOrthoDBQueryError\t0\tNo OrthoDB results for query\nInput queries downloaded.\n"
     ]
    }
   ],
   "source": [
    "#OrthoDB Queries\n",
    "import ODBquery\n",
    "valid_queries, failed_queries = ODBquery.download_ODB_input(gene_symbols,tax_table,config)"
   ]
  },
  {
   "cell_type": "code",
   "execution_count": 7,
   "metadata": {},
   "outputs": [
    {
     "name": "stdout",
     "output_type": "stream",
     "text": [
      "TMEM177\tNCBIQueryError\t0\tNo AGS ortholog present for provided Human Gene ID: 80775\nEIF3CL\tNCBIQueryError\t0\tNo AGS ortholog present for provided Human Gene ID: 728689\nMT1F\tNCBIQueryError\t1\tNo Orthologs present for GeneID 4494\nRPS12\tNCBIQueryError\t0\tNo AGS ortholog present for provided Human Gene ID: 6206\nWTAP\tNCBIQueryError\t0\tNo AGS ortholog present for provided Human Gene ID: 9589\nRPL39L\tNCBIQueryError\t0\tNo AGS ortholog present for provided Human Gene ID: 116832\nTMOD2\tNCBIQueryError\t0\tNo AGS ortholog present for provided Human Gene ID: 29767\nTMCO3\tNCBIQueryError\t0\tNo AGS ortholog present for provided Human Gene ID: 55002\nUBE2D3-AS1\tRecordDataError\t0\tNo Human GeneID present in data\nZNF91\tNCBIQueryError\t0\tNo AGS ortholog present for provided Human Gene ID: 7644\nRPS10-NUDT3\tNCBIQueryError\t0\tNo AGS ortholog present for provided Human Gene ID: 100529239\nMALAT1\tRecordDataError\t0\tNo Human GeneID present in data\nSUMO3\tNCBIQueryError\t0\tNo AGS ortholog present for provided Human Gene ID: 6612\nSLC6A10P\tNCBIQueryError\t1\tNo Orthologs present for GeneID 386757\nCBR3-AS1\tNCBIQueryError\t1\tNo Orthologs present for GeneID 100506428\nMT3\tNCBIQueryError\t0\tNo AGS ortholog present for provided Human Gene ID: 4504\nRPL41\tNCBIQueryError\t0\tNo AGS ortholog present for provided Human Gene ID: 6171\n"
     ]
    }
   ],
   "source": [
    "import importlib\n",
    "import NCBIquery\n",
    "ags_mapped_df = NCBIquery.download_AGS_data(gene_id_df,config)"
   ]
  },
  {
   "cell_type": "code",
   "execution_count": 7,
   "metadata": {},
   "outputs": [
    {
     "name": "stdout",
     "output_type": "stream",
     "text": [
      "TOIP1\tGeneCardsError\t0\tCould not automatically fetch alias data from GeneCards - consider searching manually\nHNRH1\tGeneCardsError\t0\tCould not automatically fetch alias data from GeneCards - consider searching manually\nRPLS12\tGeneCardsError\t0\tCould not automatically fetch alias data from GeneCards - consider searching manually\nHSF2B\tGeneCardsError\t0\tCould not automatically fetch alias data from GeneCards - consider searching manually\nCACB1\tGeneCardsError\t0\tCould not automatically fetch alias data from GeneCards - consider searching manually\n"
     ]
    }
   ],
   "source": [
    "import aliasQuery\n",
    "aliasQuery.download_alias_data(gene_symbols,config)"
   ]
  },
  {
   "cell_type": "code",
   "execution_count": 19,
   "metadata": {},
   "outputs": [
    {
     "name": "stdout",
     "output_type": "stream",
     "text": [
      "False\nTrue\n"
     ]
    }
   ],
   "source": [
    ""
   ]
  },
  {
   "cell_type": "code",
   "execution_count": 2,
   "metadata": {},
   "outputs": [],
   "source": []
  },
  {
   "cell_type": "code",
   "execution_count": null,
   "metadata": {},
   "outputs": [],
   "source": []
  }
 ],
 "metadata": {
  "kernelspec": {
   "display_name": "Python 2",
   "language": "python",
   "name": "python2"
  },
  "language_info": {
   "codemirror_mode": {
    "name": "ipython",
    "version": 2
   },
   "file_extension": ".py",
   "mimetype": "text/x-python",
   "name": "python",
   "nbconvert_exporter": "python",
   "pygments_lexer": "ipython2",
   "version": "2.7.6"
  }
 },
 "nbformat": 4,
 "nbformat_minor": 0
}
